{
 "cells": [
  {
   "cell_type": "markdown",
   "metadata": {},
   "source": [
    "### SVM\n",
    "| Sample Size | Columns | Fit Time | Score Time | Score | Comments and Notes                               |\n",
    "|-------------|---------|----------|------------|-------|--------------------------------------------------|\n",
    "| 2%          | 8       | 2min 39s | 36.9s      | 95.9% | Used model on sample  may be due to over fitting |\n",
    "| 2%          | 8       | 1 min 46s| 31.8       | 96.1% | results of model when run right after .fit()     |\n",
    "| 2%          | 8       | 1 min 46s| 31.8       | 22.0% | Model used on different sample                   |\n",
    "|             |         |          |            |       |                                                  |\n",
    "|             |         |          |            |       |                                                  |"
   ]
  },
  {
   "cell_type": "code",
   "execution_count": null,
   "metadata": {
    "collapsed": true
   },
   "outputs": [],
   "source": [
    "from sklearn.svm import SVC\n",
    "vcl = SVC()"
   ]
  }
 ],
 "metadata": {
  "kernelspec": {
   "display_name": "Python 2",
   "language": "python",
   "name": "python2"
  },
  "language_info": {
   "codemirror_mode": {
    "name": "ipython",
    "version": 2
   },
   "file_extension": ".py",
   "mimetype": "text/x-python",
   "name": "python",
   "nbconvert_exporter": "python",
   "pygments_lexer": "ipython2",
   "version": "2.7.9"
  }
 },
 "nbformat": 4,
 "nbformat_minor": 0
}
