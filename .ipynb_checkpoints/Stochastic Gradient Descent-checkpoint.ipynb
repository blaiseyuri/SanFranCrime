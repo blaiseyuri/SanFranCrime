{
 "cells": [
  {
   "cell_type": "code",
   "execution_count": 6,
   "metadata": {
    "collapsed": true
   },
   "outputs": [],
   "source": [
    "import pandas as pd\n",
    "import numpy as np\n",
    "import sklearn as sk\n",
    "from sklearn import linear_model"
   ]
  },
  {
   "cell_type": "code",
   "execution_count": 69,
   "metadata": {
    "collapsed": false
   },
   "outputs": [],
   "source": [
    "X = pd.read_csv('data/X.csv', index_col=0,)\n",
    "Y = pd.read_csv('data/Y.csv',index_col=0, names=['Crime'])\n",
    "test = pd.read_csv('./data/Z.csv', index_col=0)"
   ]
  },
  {
   "cell_type": "code",
   "execution_count": 44,
   "metadata": {
    "collapsed": false
   },
   "outputs": [
    {
     "name": "stdout",
     "output_type": "stream",
     "text": [
      "Wall time: 0 ns\n"
     ]
    }
   ],
   "source": [
    "# Going to try several different loss functions to see which is best\n",
    "losses = ['hinge', 'log', 'modified_huber', 'squared_hinge', 'perceptron']\n",
    "models = {}\n",
    "scores = {}\n",
    "for i,loss in enumerate(losses):\n",
    "    scores[loss] = {}"
   ]
  },
  {
   "cell_type": "code",
   "execution_count": 48,
   "metadata": {
    "collapsed": false
   },
   "outputs": [
    {
     "name": "stdout",
     "output_type": "stream",
     "text": [
      "Wall time: 20min 59s\n"
     ]
    }
   ],
   "source": [
    "%%time\n",
    "# Get 10 scores for each loss function\n",
    "for n in xrange(10):\n",
    "    for i,loss in enumerate(losses):\n",
    "        # each function will have its own model\n",
    "        models[loss] = {}\n",
    "        sgd = linear_model.SGDClassifier(loss=loss)\n",
    "        models[loss]['clf'] = sgd.fit(X,Y['Crime'])\n",
    "        models[loss]['score'] = sgd.score(X,Y['Crime'])\n",
    "        # The nth score for each model is stored here\n",
    "        scores[loss][n] = models[loss]['score']"
   ]
  },
  {
   "cell_type": "code",
   "execution_count": 54,
   "metadata": {
    "collapsed": false
   },
   "outputs": [
    {
     "name": "stdout",
     "output_type": "stream",
     "text": [
      "hinge 0.112823316239\n",
      "log 0.0953894372638\n",
      "modified_huber 0.0776248250382\n",
      "squared_hinge 0.080478310436\n",
      "perceptron 0.136811726908\n"
     ]
    }
   ],
   "source": [
    "#loop through all the scores to get an average for each function\n",
    "for i,loss in enumerate(losses):\n",
    "    scores[loss]['average'] = 0\n",
    "    for n in xrange(10):\n",
    "        scores[loss]['average'] += scores[loss][n]\n",
    "    scores[loss]['average'] = scores[loss]['average']/10\n",
    "    print loss,scores[loss]['average']"
   ]
  },
  {
   "cell_type": "markdown",
   "metadata": {},
   "source": [
    "#### Loss Function Accuracy\n",
    "Looks like perceptron  beat out the default hinge by just two percent I am going to make the assumption that as accuracy increases so does precision so I will take the model with the highest average accuracy."
   ]
  },
  {
   "cell_type": "code",
   "execution_count": 68,
   "metadata": {
    "collapsed": false
   },
   "outputs": [
    {
     "name": "stdout",
     "output_type": "stream",
     "text": [
      "Wall time: 22.3 s\n",
      "0.126510023928\n"
     ]
    }
   ],
   "source": [
    "\n",
    "perceptron_clf = linear_model.SGDClassifier(loss='perceptron')\n",
    "%time perceptron_clf.fit(X,Y['Crime'])\n",
    "print perceptron_clf.score(X,Y['Crime'])\n"
   ]
  },
  {
   "cell_type": "code",
   "execution_count": 65,
   "metadata": {
    "collapsed": false
   },
   "outputs": [
    {
     "data": {
      "text/plain": [
       "SGDClassifier(alpha=0.0001, average=False, class_weight='auto', epsilon=0.1,\n",
       "       eta0=0.0, fit_intercept=True, l1_ratio=0.15,\n",
       "       learning_rate='optimal', loss='perceptron', n_iter=5, n_jobs=1,\n",
       "       penalty='l2', power_t=0.5, random_state=None, shuffle=True,\n",
       "       verbose=0, warm_start=False)"
      ]
     },
     "execution_count": 65,
     "metadata": {},
     "output_type": "execute_result"
    }
   ],
   "source": [
    "results =  perceptron_clf.predict_proba(X)"
   ]
  },
  {
   "cell_type": "raw",
   "metadata": {},
   "source": []
  }
 ],
 "metadata": {
  "kernelspec": {
   "display_name": "Python 2",
   "language": "python",
   "name": "python2"
  },
  "language_info": {
   "codemirror_mode": {
    "name": "ipython",
    "version": 2
   },
   "file_extension": ".py",
   "mimetype": "text/x-python",
   "name": "python",
   "nbconvert_exporter": "python",
   "pygments_lexer": "ipython2",
   "version": "2.7.9"
  }
 },
 "nbformat": 4,
 "nbformat_minor": 0
}
