{
 "cells": [
  {
   "cell_type": "markdown",
   "metadata": {},
   "source": [
    "### Objective\n",
    "\n",
    "So far I have ran the data through 4 different models with several combinations of settings and sample sizes. By far the best two models have been a pure Naive Bayes and a SGD with the rbf kernel. The plan now is to do a better job of manipulating the data. The first part of that is exploring functions that help me determine how impactful features are. \n",
    "\n",
    "#### Sklearn\n",
    "Sklearn has a whole module dedicated to finding the importance of a feature called \"feature_selection\", I'll practice using these functions in this notebook to get a better understanding of how they work."
   ]
  },
  {
   "cell_type": "code",
   "execution_count": 56,
   "metadata": {
    "collapsed": false
   },
   "outputs": [],
   "source": [
    "import pandas as pd\n",
    "import numpy as np\n",
    "import sklearn.feature_selection as sel\n",
    "from sklearn import linear_model"
   ]
  },
  {
   "cell_type": "code",
   "execution_count": 8,
   "metadata": {
    "collapsed": true
   },
   "outputs": [],
   "source": [
    "X = pd.read_csv('data/X.csv', index_col=0)\n",
    "Y = pd.read_csv('data/Y.csv', index_col=0, names=['Crimes'])\n",
    "y = Y['Crimes']"
   ]
  },
  {
   "cell_type": "code",
   "execution_count": 213,
   "metadata": {
    "collapsed": true
   },
   "outputs": [],
   "source": [
    "def featRank(col, importance, boolean=True):\n",
    "    ranks = []\n",
    "    for i,x in enumerate(importance):\n",
    "        ranks.append({'feature': col[i], 'importance': x})\n",
    "    return sorted(ranks, key=lambda x: x['importance'], reverse=boolean)\n",
    "\n",
    "def printRank(collection, integer = True):\n",
    "    n = 0\n",
    "    for importance,feat in collection:\n",
    "        if integer:\n",
    "            rank = n + 1\n",
    "        else:\n",
    "            rank = collection[n][importance]\n",
    "        print collection[n][feat] + \":\", rank\n",
    "        n += 1"
   ]
  },
  {
   "cell_type": "code",
   "execution_count": 205,
   "metadata": {
    "collapsed": false
   },
   "outputs": [],
   "source": [
    "X = (1 + X - X.mean()) / (X.max() - X.min()) # added +1 so that all values stay positive"
   ]
  },
  {
   "cell_type": "markdown",
   "metadata": {},
   "source": [
    "#### Univariate Feature Selection"
   ]
  },
  {
   "cell_type": "code",
   "execution_count": 230,
   "metadata": {
    "collapsed": false
   },
   "outputs": [
    {
     "data": {
      "text/plain": [
       "GenericUnivariateSelect(mode='percentile', param=1e-05,\n",
       "            score_func=<function f_classif at 0x000000000F1209E8>)"
      ]
     },
     "execution_count": 230,
     "metadata": {},
     "output_type": "execute_result"
    }
   ],
   "source": [
    "gus = sel.GenericUnivariateSelect(mode='percentile')\n",
    "gus.fit(X,y)"
   ]
  },
  {
   "cell_type": "code",
   "execution_count": 228,
   "metadata": {
    "collapsed": false
   },
   "outputs": [
    {
     "name": "stdout",
     "output_type": "stream",
     "text": [
      "Address: 1\n",
      "PdDistrict: 2\n",
      "Year: 3\n",
      "X: 4\n",
      "DayOfWeek: 5\n",
      "Month: 6\n",
      "Day: 7\n",
      "Y: 8\n"
     ]
    }
   ],
   "source": [
    "gus_ranks = featRank(X.columns,gus.scores_)\n",
    "printRank(gus_ranks)"
   ]
  },
  {
   "cell_type": "code",
   "execution_count": 208,
   "metadata": {
    "collapsed": false
   },
   "outputs": [],
   "source": [
    "chi2_importance = sel.chi2(X,y)"
   ]
  },
  {
   "cell_type": "code",
   "execution_count": 214,
   "metadata": {
    "collapsed": false
   },
   "outputs": [
    {
     "name": "stdout",
     "output_type": "stream",
     "text": [
      "Address: 1\n",
      "PdDistrict: 2\n",
      "Year: 3\n",
      "DayOfWeek: 4\n",
      "Month: 5\n",
      "Day: 6\n",
      "X: 7\n",
      "Y: 8\n"
     ]
    }
   ],
   "source": [
    "chi_ranks = featRank(X.columns,chi2_importance[0])\n",
    "printRank(chi_ranks)"
   ]
  },
  {
   "cell_type": "markdown",
   "metadata": {},
   "source": [
    "#### Recursive Feature Elimination"
   ]
  },
  {
   "cell_type": "code",
   "execution_count": 207,
   "metadata": {
    "collapsed": false
   },
   "outputs": [
    {
     "name": "stdout",
     "output_type": "stream",
     "text": [
      "Wall time: 2min 10s\n"
     ]
    }
   ],
   "source": [
    "%%time\n",
    "estimator = linear_model.SGDClassifier(loss='log', n_jobs=-1)\n",
    "selector = sel.RFE(estimator, 1)\n",
    "selector = selector.fit(X,y)"
   ]
  },
  {
   "cell_type": "code",
   "execution_count": 215,
   "metadata": {
    "collapsed": false
   },
   "outputs": [
    {
     "name": "stdout",
     "output_type": "stream",
     "text": [
      "Address: 1\n",
      "X: 2\n",
      "PdDistrict: 3\n",
      "Year: 4\n",
      "DayOfWeek: 5\n",
      "Y: 6\n",
      "Day: 7\n",
      "Month: 8\n"
     ]
    }
   ],
   "source": [
    "rfe_rank = featRank(X.columns,selector.ranking_, False)\n",
    "printRank(rfe_rank)"
   ]
  },
  {
   "cell_type": "markdown",
   "metadata": {},
   "source": [
    "#### Elimination through L1 prior "
   ]
  },
  {
   "cell_type": "code",
   "execution_count": 209,
   "metadata": {
    "collapsed": false
   },
   "outputs": [
    {
     "name": "stdout",
     "output_type": "stream",
     "text": [
      "Wall time: 13.5 s\n"
     ]
    },
    {
     "data": {
      "text/plain": [
       "LassoLarsCV(copy_X=True, cv=20, eps=2.2204460492503131e-16,\n",
       "      fit_intercept=True, max_iter=500, max_n_alphas=1000, n_jobs=1,\n",
       "      normalize=True, precompute='auto', verbose=False)"
      ]
     },
     "execution_count": 209,
     "metadata": {},
     "output_type": "execute_result"
    }
   ],
   "source": [
    "lasso = linear_model.LassoLarsCV(cv = 20)\n",
    "%time lasso.fit(X,y)"
   ]
  },
  {
   "cell_type": "code",
   "execution_count": 224,
   "metadata": {
    "collapsed": false
   },
   "outputs": [
    {
     "name": "stdout",
     "output_type": "stream",
     "text": [
      "Alpha: 1.10094040294e-05\n",
      "X: 1\n",
      "Y: 2\n",
      "PdDistrict: 3\n",
      "Address: 4\n",
      "Year: 5\n",
      "DayOfWeek: 6\n",
      "Month: 7\n",
      "Day: 8\n"
     ]
    }
   ],
   "source": [
    "print \"Alpha:\", lasso.alpha_\n",
    "lasso_ranks = featRank(X.columns,lasso.coef_**2) # square it is ranked on just magnitude\n",
    "printRank(lasso_ranks)"
   ]
  },
  {
   "cell_type": "markdown",
   "metadata": {},
   "source": [
    "#### Elimination through L1 and L2"
   ]
  },
  {
   "cell_type": "code",
   "execution_count": 219,
   "metadata": {
    "collapsed": false
   },
   "outputs": [
    {
     "name": "stdout",
     "output_type": "stream",
     "text": [
      "Wall time: 12.3 s\n"
     ]
    },
    {
     "data": {
      "text/plain": [
       "ElasticNetCV(alphas=None, copy_X=True, cv=50, eps=0.001, fit_intercept=True,\n",
       "       l1_ratio=0.5, max_iter=1000, n_alphas=100, n_jobs=-1,\n",
       "       normalize=False, positive=False, precompute='auto',\n",
       "       random_state=None, selection='cyclic', tol=0.0001, verbose=0)"
      ]
     },
     "execution_count": 219,
     "metadata": {},
     "output_type": "execute_result"
    }
   ],
   "source": [
    "elastic = linear_model.ElasticNetCV(cv=50, n_jobs=-1)\n",
    "%time elastic.fit(X,y)"
   ]
  },
  {
   "cell_type": "code",
   "execution_count": 223,
   "metadata": {
    "collapsed": false
   },
   "outputs": [
    {
     "name": "stdout",
     "output_type": "stream",
     "text": [
      "Alpha: 0.000276666176685\n",
      "X: 1\n",
      "Y: 2\n",
      "PdDistrict: 3\n",
      "Address: 4\n",
      "Year: 5\n",
      "Month: 6\n",
      "DayOfWeek: 7\n",
      "Day: 8\n"
     ]
    }
   ],
   "source": [
    "print \"Alpha:\", elastic.alpha_\n",
    "elastic_ranks = featRank(X.columns, elastic.coef_**2) # square it is ranked on just magnitude\n",
    "printRank(elastic_ranks)"
   ]
  },
  {
   "cell_type": "markdown",
   "metadata": {},
   "source": [
    "### Results\n",
    "\n",
    "The results between the elastic and the L1 method are very similiar and the chi2,percentile, and rfe also match up pretty well. Since the chi2 * general Univariate are faster and more flexible (they don't require an estimator) and elastic fit doesn't penalize colinearity I'll be using these two to for feature selection."
   ]
  }
 ],
 "metadata": {
  "kernelspec": {
   "display_name": "Python 2",
   "language": "python",
   "name": "python2"
  },
  "language_info": {
   "codemirror_mode": {
    "name": "ipython",
    "version": 2
   },
   "file_extension": ".py",
   "mimetype": "text/x-python",
   "name": "python",
   "nbconvert_exporter": "python",
   "pygments_lexer": "ipython2",
   "version": "2.7.9"
  }
 },
 "nbformat": 4,
 "nbformat_minor": 0
}
