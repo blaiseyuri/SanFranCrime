{
 "cells": [
  {
   "cell_type": "code",
   "execution_count": 85,
   "metadata": {
    "collapsed": true
   },
   "outputs": [],
   "source": [
    "import pandas as pd\n",
    "import numpy as np\n",
    "import sklearn as sk\n",
    "from sklearn import linear_model\n",
    "from sklearn.kernel_approximation import RBFSampler"
   ]
  },
  {
   "cell_type": "code",
   "execution_count": 69,
   "metadata": {
    "collapsed": false
   },
   "outputs": [],
   "source": [
    "X = pd.read_csv('data/X.csv', index_col=0,)\n",
    "Y = pd.read_csv('data/Y.csv',index_col=0, names=['Crime'])\n",
    "test = pd.read_csv('./data/Z.csv', index_col=0)"
   ]
  },
  {
   "cell_type": "code",
   "execution_count": 44,
   "metadata": {
    "collapsed": false
   },
   "outputs": [
    {
     "name": "stdout",
     "output_type": "stream",
     "text": [
      "Wall time: 0 ns\n"
     ]
    }
   ],
   "source": [
    "# Going to try several different loss functions to see which is best\n",
    "losses = ['hinge', 'log', 'modified_huber', 'squared_hinge', 'perceptron']\n",
    "models = {}\n",
    "scores = {}\n",
    "for i,loss in enumerate(losses):\n",
    "    scores[loss] = {}"
   ]
  },
  {
   "cell_type": "code",
   "execution_count": 48,
   "metadata": {
    "collapsed": false
   },
   "outputs": [
    {
     "name": "stdout",
     "output_type": "stream",
     "text": [
      "Wall time: 20min 59s\n"
     ]
    }
   ],
   "source": [
    "%%time\n",
    "# Get 10 scores for each loss function\n",
    "for n in xrange(10):\n",
    "    for i,loss in enumerate(losses):\n",
    "        # each function will have its own model\n",
    "        models[loss] = {}\n",
    "        sgd = linear_model.SGDClassifier(loss=loss)\n",
    "        models[loss]['clf'] = sgd.fit(X,Y['Crime'])\n",
    "        models[loss]['score'] = sgd.score(X,Y['Crime'])\n",
    "        # The nth score for each model is stored here\n",
    "        scores[loss][n] = models[loss]['score']"
   ]
  },
  {
   "cell_type": "code",
   "execution_count": 54,
   "metadata": {
    "collapsed": false
   },
   "outputs": [
    {
     "name": "stdout",
     "output_type": "stream",
     "text": [
      "hinge 0.112823316239\n",
      "log 0.0953894372638\n",
      "modified_huber 0.0776248250382\n",
      "squared_hinge 0.080478310436\n",
      "perceptron 0.136811726908\n"
     ]
    }
   ],
   "source": [
    "#loop through all the scores to get an average for each function\n",
    "for i,loss in enumerate(losses):\n",
    "    scores[loss]['average'] = 0\n",
    "    for n in xrange(10):\n",
    "        scores[loss]['average'] += scores[loss][n]\n",
    "    scores[loss]['average'] = scores[loss]['average']/10\n",
    "    print loss,scores[loss]['average']"
   ]
  },
  {
   "cell_type": "markdown",
   "metadata": {},
   "source": [
    "#### Loss Function Accuracy\n",
    "Looks like perceptron  beat out the default hinge by just two percent I am going to make the assumption that as accuracy increases so does precision so I will take the model with the highest average accuracy.\n",
    "\n",
    "##### Update\n",
    "I have to use Log function since the two higher loss functions don't support the probability predict method.\n",
    "\n",
    "##### Update 2\n",
    "The log loss function scored a 34 on Kaggle.\n",
    "\n",
    "#### Update 3 \n",
    "Log loss function with rbf moved all the way up to 5.39105!"
   ]
  },
  {
   "cell_type": "code",
   "execution_count": 97,
   "metadata": {
    "collapsed": false
   },
   "outputs": [],
   "source": [
    "rbf_feature = RBFSampler(gamma=1, random_state=1)\n",
    "X_features = rbf_feature.fit_transform(X)\n",
    "test_features = rbf_feature.fit_transform(test) "
   ]
  },
  {
   "cell_type": "code",
   "execution_count": 88,
   "metadata": {
    "collapsed": false
   },
   "outputs": [
    {
     "name": "stdout",
     "output_type": "stream",
     "text": [
      "Wall time: 1min 50s\n",
      "0.199191616869\n"
     ]
    }
   ],
   "source": [
    "\n",
    "log_clf = linear_model.SGDClassifier(loss='log')\n",
    "%time log_clf.fit(X_features,Y['Crime'])\n",
    "print log_clf.score(X_features,Y['Crime'])\n"
   ]
  },
  {
   "cell_type": "code",
   "execution_count": 98,
   "metadata": {
    "collapsed": false
   },
   "outputs": [
    {
     "name": "stdout",
     "output_type": "stream",
     "text": [
      "Wall time: 2.1 s\n"
     ]
    }
   ],
   "source": [
    "%time results = log_clf.predict_proba(test_features)"
   ]
  },
  {
   "cell_type": "code",
   "execution_count": 99,
   "metadata": {
    "collapsed": true
   },
   "outputs": [],
   "source": [
    "df = pd.read_csv('data/train.csv')\n",
    "resultdf = pd.DataFrame(results, columns = df.Category.unique())\n",
    "resultdf = resultdf[sorted(resultdf.columns)]\n",
    "resultdf.insert(0, 'Id', test.index.values)\n",
    "resultdf.fillna(0,inplace=True)\n",
    "resultdf.to_csv('submissions/sgdrbf_prob.csv', index=False)"
   ]
  }
 ],
 "metadata": {
  "kernelspec": {
   "display_name": "Python 2",
   "language": "python",
   "name": "python2"
  },
  "language_info": {
   "codemirror_mode": {
    "name": "ipython",
    "version": 2
   },
   "file_extension": ".py",
   "mimetype": "text/x-python",
   "name": "python",
   "nbconvert_exporter": "python",
   "pygments_lexer": "ipython2",
   "version": "2.7.9"
  }
 },
 "nbformat": 4,
 "nbformat_minor": 0
}
