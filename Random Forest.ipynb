{
 "cells": [
  {
   "cell_type": "markdown",
   "metadata": {},
   "source": [
    "## Random Forest\n",
    "\n",
    "Random Forest is one of my favorite methods because it is pretty easy to use and returns pretty good results. The data has already been cleaned up so I can get straight to the modeling from here. I'll also be creating a table of results I get from the algorithm. The first table will be based on performance and accuracy I'll be manipulating the data and my settings to get the best result."
   ]
  },
  {
   "cell_type": "markdown",
   "metadata": {},
   "source": [
    "Here is some data from earlier runs that I did earlier in the week. I don't have enough RAM on my computer to run a proper Random Forest on the full data set so I tried changing some of the settings to see what type of results I would get, so far it things don't look so great.\n",
    "\n",
    "| Score               | Depth | Trees |\n",
    "|---------------------|-------|-------|\n",
    "| 0.24406610565014025 | 7     | 250   |\n",
    "| 0.243709633517      | 7     | 500   |\n",
    "| 0.244111661194      | 7     | 750   |\n",
    "| 0.243918050132      | 7     | 1000  |\n",
    "| 0.29118306609312239 | 15    | 250   |"
   ]
  },
  {
   "cell_type": "code",
   "execution_count": 1,
   "metadata": {
    "collapsed": false
   },
   "outputs": [],
   "source": [
    "import pandas as pd\n",
    "import numpy as np\n",
    "Y = pd.read_csv('./data/Y.csv', index_col = 0, header=None, names=['Crime'])\n",
    "X = pd.read_csv('./data/X.csv', index_col=0)"
   ]
  },
  {
   "cell_type": "code",
   "execution_count": 8,
   "metadata": {
    "collapsed": false
   },
   "outputs": [],
   "source": [
    "rows = np.random.choice(X.index.values, X.shape[0]*.30)\n",
    "a = X.ix[rows]\n",
    "b = Y['Crime'].ix[rows]"
   ]
  },
  {
   "cell_type": "code",
   "execution_count": 6,
   "metadata": {
    "collapsed": true
   },
   "outputs": [],
   "source": [
    "import sklearn.ensemble as sk\n",
    "n = 25\n",
    "rfc = sk.RandomForestClassifier(n_jobs=-1, n_estimators = n, oob_score = True, bootstrap = True)"
   ]
  },
  {
   "cell_type": "code",
   "execution_count": 9,
   "metadata": {
    "collapsed": false
   },
   "outputs": [
    {
     "name": "stdout",
     "output_type": "stream",
     "text": [
      "Wall time: 13.5 s\n"
     ]
    },
    {
     "name": "stderr",
     "output_type": "stream",
     "text": [
      "C:\\Users\\2015\\Anaconda\\lib\\site-packages\\sklearn\\ensemble\\forest.py:379: UserWarning: Some inputs do not have OOB scores. This probably means too few trees were used to compute any reliable oob estimates.\n",
      "  warn(\"Some inputs do not have OOB scores. \"\n"
     ]
    },
    {
     "data": {
      "text/plain": [
       "0.40689940549856879"
      ]
     },
     "execution_count": 9,
     "metadata": {},
     "output_type": "execute_result"
    }
   ],
   "source": [
    "%time rfc.fit(a,b)\n",
    "rfc.oob_score_"
   ]
  },
  {
   "cell_type": "code",
   "execution_count": null,
   "metadata": {
    "collapsed": true
   },
   "outputs": [],
   "source": [
    "# 1% 80mb 453ms 18.34% 25\n",
    "# 1% 750mb 3.52ms 22.79% 250\n",
    "# 1% 2500\n",
    "# 1% 2800mb 13.4s 24.27% 1000\n",
    "# 10% 700mb 4.07s 27.91% 25\n",
    "# 30% 1700mb 13.5s 40.68% 25\n",
    "\n"
   ]
  }
 ],
 "metadata": {
  "kernelspec": {
   "display_name": "Python 2",
   "language": "python",
   "name": "python2"
  },
  "language_info": {
   "codemirror_mode": {
    "name": "ipython",
    "version": 2
   },
   "file_extension": ".py",
   "mimetype": "text/x-python",
   "name": "python",
   "nbconvert_exporter": "python",
   "pygments_lexer": "ipython2",
   "version": "2.7.9"
  }
 },
 "nbformat": 4,
 "nbformat_minor": 0
}
