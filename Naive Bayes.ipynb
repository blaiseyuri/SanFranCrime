{
 "cells": [
  {
   "cell_type": "markdown",
   "metadata": {},
   "source": [
    "### Naive Bayes\n",
    "This is my first time using naive bayes but after reading a great post from [stats stackexchange](http://stats.stackexchange.com/questions/21822/understanding-naive-bayes) I think I have a decent understanding of how it works."
   ]
  },
  {
   "cell_type": "code",
   "execution_count": 25,
   "metadata": {
    "collapsed": false
   },
   "outputs": [],
   "source": [
    "import pandas as pd\n",
    "import numpy as np\n",
    "Y = pd.read_csv('./data/Y.csv', index_col=0, header=None,names=['Crime'])\n",
    "X = pd.read_csv('./data/X.csv', index_col=0)"
   ]
  },
  {
   "cell_type": "code",
   "execution_count": 27,
   "metadata": {
    "collapsed": false
   },
   "outputs": [],
   "source": [
    "test = pd.read_csv('./data/Z.csv', index_col=0)"
   ]
  },
  {
   "cell_type": "code",
   "execution_count": 20,
   "metadata": {
    "collapsed": true
   },
   "outputs": [],
   "source": [
    "from sklearn.naive_bayes import GaussianNB\n",
    "gnb = GaussianNB()\n"
   ]
  },
  {
   "cell_type": "code",
   "execution_count": 21,
   "metadata": {
    "collapsed": false
   },
   "outputs": [
    {
     "name": "stdout",
     "output_type": "stream",
     "text": [
      "Wall time: 547 ms\n"
     ]
    }
   ],
   "source": [
    "%time model = gnb.fit(X,Y['Crime'])\n",
    "# 100%, 432ms,"
   ]
  },
  {
   "cell_type": "code",
   "execution_count": 22,
   "metadata": {
    "collapsed": false
   },
   "outputs": [
    {
     "name": "stdout",
     "output_type": "stream",
     "text": [
      "Wall time: 6.03 s\n"
     ]
    },
    {
     "data": {
      "text/plain": [
       "0.077853286092234034"
      ]
     },
     "execution_count": 22,
     "metadata": {},
     "output_type": "execute_result"
    }
   ],
   "source": [
    "%time model.score(X,Y)"
   ]
  },
  {
   "cell_type": "code",
   "execution_count": 28,
   "metadata": {
    "collapsed": false
   },
   "outputs": [
    {
     "name": "stdout",
     "output_type": "stream",
     "text": [
      "Wall time: 6.88 s\n"
     ]
    }
   ],
   "source": [
    "%time results = model.predict_proba(test)"
   ]
  },
  {
   "cell_type": "code",
   "execution_count": 30,
   "metadata": {
    "collapsed": false
   },
   "outputs": [],
   "source": [
    "df = pd.read_csv('data/train.csv')\n",
    "resultdf = pd.DataFrame(results, columns = df.Category.unique())\n",
    "resultdf = resultdf[sorted(resultdf.columns)]\n",
    "resultdf.insert(0, 'Id', test.index.values)\n",
    "resultdf.to_csv('submissions/nb_prob.csv', index=False)"
   ]
  },
  {
   "cell_type": "markdown",
   "metadata": {},
   "source": [
    "So far the Naive bayes is really fast but it has really poor accuracy ,Scoring and fitting take 6.03s and 547ms respectively but the accuracy is only 7%.\n",
    "\n",
    "##### Update\n",
    "Looks like accuracy isn't everything I got a kaggle Score of 5.24682! 23 point improvement over the much slower Random Forest."
   ]
  },
  {
   "cell_type": "markdown",
   "metadata": {},
   "source": [
    "### Complementary Naive Bayes\n",
    "\n",
    "#### Balanced vs Unblanced Datasets\n",
    "One of the possible causes for the models poor performance might be the fact that the dataset is unbalanced. An unbalanced dataset has uneven amount of occurances for each class it contains. For example if you have a dataset that describes 3000 days of whether a balanced dataset would have a 1000 days that were \"sunny\", a 1000 that were \"cloudy\", and a 1000 \"rainy days\". With an unblanaced data set these amount would be different so instead it could look like 300, 1800, and 900 occurences for each class respectively. The problem with unbalanced datasets is Naive bayes is gives bias to classes that have a higher frequqency. \n",
    "\n",
    "#### Solution\n",
    "A group of Artificial intelligence researchers at MIT have found that one way to mitigate the negative effects of skewed data is to use a different weighting system that looks at the occurances that are not apart of a class. A more in depth explanation is given in their paper which can be found [here](http://people.csail.mit.edu/jrennie/papers/icml03-nb.pdf) in section 3.\n",
    "\n",
    "##### Wrong again (Update)\n",
    "Looks like naive bayes is able to handle unbalanced datasets and that this probably is mainly for text analysis : ("
   ]
  }
 ],
 "metadata": {
  "kernelspec": {
   "display_name": "Python 2",
   "language": "python",
   "name": "python2"
  },
  "language_info": {
   "codemirror_mode": {
    "name": "ipython",
    "version": 2
   },
   "file_extension": ".py",
   "mimetype": "text/x-python",
   "name": "python",
   "nbconvert_exporter": "python",
   "pygments_lexer": "ipython2",
   "version": "2.7.9"
  }
 },
 "nbformat": 4,
 "nbformat_minor": 0
}
